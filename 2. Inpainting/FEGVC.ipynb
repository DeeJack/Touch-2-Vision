{
 "cells": [
  {
   "cell_type": "markdown",
   "metadata": {
    "id": "jSp9_wK52nEO"
   },
   "source": [
    "Install conda on the Colab instance"
   ]
  },
  {
   "cell_type": "code",
   "execution_count": null,
   "metadata": {
    "colab": {
     "base_uri": "https://localhost:8080/"
    },
    "execution": {
     "iopub.execute_input": "2024-07-21T09:45:36.057857Z",
     "iopub.status.busy": "2024-07-21T09:45:36.057562Z",
     "iopub.status.idle": "2024-07-21T09:45:51.569829Z",
     "shell.execute_reply": "2024-07-21T09:45:51.568716Z",
     "shell.execute_reply.started": "2024-07-21T09:45:36.057831Z"
    },
    "id": "1Za-Jq7yz1MM",
    "outputId": "80018fe0-cdfe-405e-e246-6d9de3626a9f",
    "trusted": true
   },
   "outputs": [],
   "source": [
    "!pip install -q condacolab\n",
    "import condacolab\n",
    "condacolab.install()"
   ]
  },
  {
   "cell_type": "markdown",
   "metadata": {
    "id": "FFlfwGyB6Dvx"
   },
   "source": [
    "Check conda installation"
   ]
  },
  {
   "cell_type": "code",
   "execution_count": null,
   "metadata": {
    "colab": {
     "base_uri": "https://localhost:8080/"
    },
    "id": "-8b1-soC6C8O",
    "outputId": "56fbc72f-b569-48fe-a521-d6feb62db327"
   },
   "outputs": [],
   "source": [
    "import condacolab\n",
    "condacolab.check()"
   ]
  },
  {
   "cell_type": "markdown",
   "metadata": {
    "id": "pc67O8h32qeA"
   },
   "source": [
    "Clone the Flow-edge Guided Video Completion repository\n"
   ]
  },
  {
   "cell_type": "code",
   "execution_count": null,
   "metadata": {
    "colab": {
     "base_uri": "https://localhost:8080/"
    },
    "execution": {
     "iopub.execute_input": "2024-07-21T09:45:59.949347Z",
     "iopub.status.busy": "2024-07-21T09:45:59.948678Z",
     "iopub.status.idle": "2024-07-21T09:46:01.807281Z",
     "shell.execute_reply": "2024-07-21T09:46:01.806205Z",
     "shell.execute_reply.started": "2024-07-21T09:45:59.949316Z"
    },
    "id": "3TbzJ1Ydz3st",
    "outputId": "d6fb1533-8de3-4772-a18d-637957d818fb",
    "trusted": true
   },
   "outputs": [],
   "source": [
    "!git clone https://github.com/vt-vl-lab/FGVC\n",
    "%cd FGVC"
   ]
  },
  {
   "cell_type": "markdown",
   "metadata": {
    "id": "oyYf72UB2zYK"
   },
   "source": [
    "Install dependencies"
   ]
  },
  {
   "cell_type": "code",
   "execution_count": null,
   "metadata": {
    "colab": {
     "base_uri": "https://localhost:8080/"
    },
    "execution": {
     "iopub.execute_input": "2024-07-21T09:54:21.166334Z",
     "iopub.status.busy": "2024-07-21T09:54:21.165682Z",
     "iopub.status.idle": "2024-07-21T09:55:04.863692Z",
     "shell.execute_reply": "2024-07-21T09:55:04.862697Z",
     "shell.execute_reply.started": "2024-07-21T09:54:21.166303Z"
    },
    "id": "xtp3f0KJytV8",
    "outputId": "89259d81-3dd0-45ec-cb5f-ba06d4f71a96",
    "trusted": true
   },
   "outputs": [],
   "source": [
    "%cd FGVC/\n",
    "!conda create --prefix=.conda python=3.8.5 -y\n",
    "!conda init"
   ]
  },
  {
   "cell_type": "code",
   "execution_count": null,
   "metadata": {
    "colab": {
     "base_uri": "https://localhost:8080/"
    },
    "execution": {
     "iopub.execute_input": "2024-07-21T09:56:14.861500Z",
     "iopub.status.busy": "2024-07-21T09:56:14.860845Z",
     "iopub.status.idle": "2024-07-21T09:56:16.843701Z",
     "shell.execute_reply": "2024-07-21T09:56:16.842440Z",
     "shell.execute_reply.started": "2024-07-21T09:56:14.861466Z"
    },
    "id": "GtSVxPaPJE7Z",
    "outputId": "46477c24-baa3-4442-be35-2b5d6b1cc05b",
    "trusted": true
   },
   "outputs": [],
   "source": [
    "!unzip /kaggle/input/hand-video\n",
    "!mkdir results"
   ]
  },
  {
   "cell_type": "code",
   "execution_count": null,
   "metadata": {
    "colab": {
     "base_uri": "https://localhost:8080/",
     "height": 1000
    },
    "execution": {
     "iopub.execute_input": "2024-07-21T12:08:33.041478Z",
     "iopub.status.busy": "2024-07-21T12:08:33.040432Z"
    },
    "id": "eIbZ-9Hc7ZZJ",
    "outputId": "18b12b93-9274-4815-d882-a701daafa324",
    "trusted": true
   },
   "outputs": [],
   "source": [
    "!conda activate .conda\n",
    "!python --version\n",
    "#!pip install torch torchvision torchaudio --index-url https://download.pytorch.org/whl/cu118\n",
    "#pip install cudatoolkit==10.1\n",
    "#!pip install matplotlib scipy opencv-python\n",
    "#pip install pytorch=1.6.0 torchvision=0.7.0 cudatoolkit=10.1 matplotlib scipy opencv -c pytorch\n",
    "#!pip install imageio imageio-ffmpeg scikit-image imutils\n",
    "\n",
    "#!chmod +x download_data_weights.sh\n",
    "#!./download_data_weights.sh\n",
    "\n",
    "#%cd tool\n",
    "!python video_completion.py \\\n",
    "       --mode object_removal \\\n",
    "       --path /kaggle/input/hand-video/frames \\\n",
    "       --path_mask /kaggle/input/hand-video/masks \\\n",
    "       --outroot results"
   ]
  },
  {
   "cell_type": "markdown",
   "metadata": {
    "id": "m9_bcPO12v_l"
   },
   "source": [
    "Download weights and test images."
   ]
  },
  {
   "cell_type": "code",
   "execution_count": null,
   "metadata": {},
   "outputs": [],
   "source": [
    "!zip -r results.zip results"
   ]
  },
  {
   "cell_type": "code",
   "execution_count": null,
   "metadata": {
    "id": "Dg2_X1Pc0uVJ"
   },
   "outputs": [],
   "source": [
    "%cd /content/FGVC/\n",
    "!chmod +x download_data_weights.sh\n",
    "!./download_data_weights.sh"
   ]
  },
  {
   "cell_type": "markdown",
   "metadata": {
    "id": "ZGFO7L1t24ES"
   },
   "source": [
    "Test the code"
   ]
  },
  {
   "cell_type": "code",
   "execution_count": null,
   "metadata": {
    "id": "poy4RqR91Xfb"
   },
   "outputs": [],
   "source": [
    "%cd tool\n",
    "!python video_completion.py \\\n",
    "       --mode object_removal \\\n",
    "       --path /content/frames \\\n",
    "       --path_mask /content/masks \\\n",
    "       --outroot /results/ \\\n",
    "       --seamless"
   ]
  }
 ],
 "metadata": {
  "accelerator": "GPU",
  "colab": {
   "gpuType": "T4",
   "provenance": []
  },
  "kaggle": {
   "accelerator": "nvidiaTeslaT4",
   "dataSources": [
    {
     "datasetId": 5422904,
     "sourceId": 9002084,
     "sourceType": "datasetVersion"
    }
   ],
   "dockerImageVersionId": 30747,
   "isGpuEnabled": true,
   "isInternetEnabled": true,
   "language": "python",
   "sourceType": "notebook"
  },
  "kernelspec": {
   "display_name": "Python 3",
   "language": "python",
   "name": "python3"
  },
  "language_info": {
   "codemirror_mode": {
    "name": "ipython",
    "version": 3
   },
   "file_extension": ".py",
   "mimetype": "text/x-python",
   "name": "python",
   "nbconvert_exporter": "python",
   "pygments_lexer": "ipython3",
   "version": "3.10.13"
  }
 },
 "nbformat": 4,
 "nbformat_minor": 4
}
