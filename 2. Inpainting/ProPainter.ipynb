{
 "cells": [
  {
   "cell_type": "markdown",
   "metadata": {
    "editable": false
   },
   "source": [
    "# ProPainter\n",
    "Clone the repo"
   ]
  },
  {
   "cell_type": "code",
   "execution_count": null,
   "metadata": {
    "_cell_guid": "b1076dfc-b9ad-4769-8c92-a6c4dae69d19",
    "_uuid": "8f2839f25d086af736a60e9eeb907d3b93b6e0e5",
    "editable": false,
    "execution": {
     "iopub.execute_input": "2024-12-27T13:23:31.073577Z",
     "iopub.status.busy": "2024-12-27T13:23:31.073360Z",
     "iopub.status.idle": "2024-12-27T13:23:32.094012Z",
     "shell.execute_reply": "2024-12-27T13:23:32.093010Z",
     "shell.execute_reply.started": "2024-12-27T13:23:31.073556Z"
    },
    "trusted": true
   },
   "outputs": [],
   "source": [
    "!git clone https://github.com/sczhou/ProPainter\n",
    "%cd ProPainter"
   ]
  },
  {
   "cell_type": "markdown",
   "metadata": {
    "editable": false
   },
   "source": [
    "Install dependencies"
   ]
  },
  {
   "cell_type": "code",
   "execution_count": null,
   "metadata": {
    "editable": false,
    "execution": {
     "iopub.execute_input": "2024-12-27T13:23:32.097183Z",
     "iopub.status.busy": "2024-12-27T13:23:32.096807Z",
     "iopub.status.idle": "2024-12-27T13:23:44.219339Z",
     "shell.execute_reply": "2024-12-27T13:23:44.218244Z",
     "shell.execute_reply.started": "2024-12-27T13:23:32.097148Z"
    },
    "trusted": true
   },
   "outputs": [],
   "source": [
    "pip install -r requirements.txt"
   ]
  },
  {
   "cell_type": "markdown",
   "metadata": {
    "editable": false
   },
   "source": [
    "Run the code. Plz work."
   ]
  },
  {
   "cell_type": "code",
   "execution_count": null,
   "metadata": {
    "editable": false,
    "execution": {
     "iopub.execute_input": "2024-12-27T13:23:44.220960Z",
     "iopub.status.busy": "2024-12-27T13:23:44.220671Z",
     "iopub.status.idle": "2024-12-27T13:23:55.633416Z",
     "shell.execute_reply": "2024-12-27T13:23:55.632387Z",
     "shell.execute_reply.started": "2024-12-27T13:23:44.220933Z"
    },
    "trusted": true
   },
   "outputs": [],
   "source": [
    "%cd weights\n",
    "!wget \"https://github.com/sczhou/ProPainter/releases/download/v0.1.0/cutie-base-mega.pth\"\n",
    "!wget \"https://github.com/sczhou/ProPainter/releases/download/v0.1.0/i3d_rgb_imagenet.pt\"\n",
    "!wget \"https://github.com/sczhou/ProPainter/releases/download/v0.1.0/ProPainter.pth\"\n",
    "!wget \"https://github.com/sczhou/ProPainter/releases/download/v0.1.0/raft-things.pth\"\n",
    "!wget \"https://github.com/sczhou/ProPainter/releases/download/v0.1.0/recurrent_flow_completion.pth\"\n",
    "    \n",
    "%cd .."
   ]
  },
  {
   "cell_type": "code",
   "execution_count": null,
   "metadata": {
    "editable": false,
    "execution": {
     "iopub.execute_input": "2024-12-27T13:23:55.635265Z",
     "iopub.status.busy": "2024-12-27T13:23:55.634909Z",
     "iopub.status.idle": "2024-12-27T13:24:54.207919Z",
     "shell.execute_reply": "2024-12-27T13:24:54.207034Z",
     "shell.execute_reply.started": "2024-12-27T13:23:55.635233Z"
    },
    "trusted": true
   },
   "outputs": [],
   "source": [
    "!python inference_propainter.py --video /kaggle/input/hand-12990-13083/input/frames --mask /kaggle/input/hand-12990-13083/input/masks"
   ]
  },
  {
   "cell_type": "code",
   "execution_count": null,
   "metadata": {
    "editable": false,
    "execution": {
     "iopub.execute_input": "2024-12-27T13:24:54.210159Z",
     "iopub.status.busy": "2024-12-27T13:24:54.209433Z",
     "iopub.status.idle": "2024-12-27T13:25:36.639798Z",
     "shell.execute_reply": "2024-12-27T13:25:36.638693Z",
     "shell.execute_reply.started": "2024-12-27T13:24:54.210103Z"
    },
    "trusted": true
   },
   "outputs": [],
   "source": [
    "!python inference_propainter.py --video inputs/object_removal/bmx-trees --mask inputs/object_removal/bmx-trees_mask "
   ]
  }
 ],
 "metadata": {
  "kaggle": {
   "accelerator": "none",
   "dataSources": [
    {
     "datasetId": 5423541,
     "sourceId": 9002922,
     "sourceType": "datasetVersion"
    },
    {
     "datasetId": 5668964,
     "sourceId": 9352237,
     "sourceType": "datasetVersion"
    },
    {
     "datasetId": 5732897,
     "sourceId": 9435680,
     "sourceType": "datasetVersion"
    },
    {
     "datasetId": 6383823,
     "sourceId": 10312213,
     "sourceType": "datasetVersion"
    },
    {
     "datasetId": 6638418,
     "sourceId": 10710748,
     "sourceType": "datasetVersion"
    }
   ],
   "dockerImageVersionId": 30747,
   "isGpuEnabled": false,
   "isInternetEnabled": true,
   "language": "python",
   "sourceType": "notebook"
  },
  "kernelspec": {
   "display_name": "Python 3",
   "language": "python",
   "name": "python3"
  },
  "language_info": {
   "codemirror_mode": {
    "name": "ipython",
    "version": 3
   },
   "file_extension": ".py",
   "mimetype": "text/x-python",
   "name": "python",
   "nbconvert_exporter": "python",
   "pygments_lexer": "ipython3",
   "version": "3.10.13"
  }
 },
 "nbformat": 4,
 "nbformat_minor": 4
}
