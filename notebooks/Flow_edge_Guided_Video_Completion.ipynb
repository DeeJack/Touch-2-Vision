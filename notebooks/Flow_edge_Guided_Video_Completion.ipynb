{
  "nbformat": 4,
  "nbformat_minor": 0,
  "metadata": {
    "colab": {
      "provenance": [],
      "gpuType": "T4"
    },
    "kernelspec": {
      "name": "python3",
      "display_name": "Python 3"
    },
    "language_info": {
      "name": "python"
    },
    "accelerator": "GPU"
  },
  "cells": [
    {
      "cell_type": "markdown",
      "source": [
        "Install conda on the Colab instance"
      ],
      "metadata": {
        "id": "jSp9_wK52nEO"
      }
    },
    {
      "cell_type": "code",
      "source": [
        "!pip install -q condacolab\n",
        "import condacolab\n",
        "condacolab.install()"
      ],
      "metadata": {
        "id": "1Za-Jq7yz1MM"
      },
      "execution_count": null,
      "outputs": []
    },
    {
      "cell_type": "markdown",
      "source": [
        "Check conda installation"
      ],
      "metadata": {
        "id": "FFlfwGyB6Dvx"
      }
    },
    {
      "cell_type": "code",
      "source": [
        "import condacolab\n",
        "condacolab.check()"
      ],
      "metadata": {
        "id": "-8b1-soC6C8O"
      },
      "execution_count": null,
      "outputs": []
    },
    {
      "cell_type": "markdown",
      "source": [
        "Clone the Flow-edge Guided Video Completion repository\n"
      ],
      "metadata": {
        "id": "pc67O8h32qeA"
      }
    },
    {
      "cell_type": "code",
      "source": [
        "!git clone https://github.com/vt-vl-lab/FGVC\n",
        "%cd FGVC"
      ],
      "metadata": {
        "id": "3TbzJ1Ydz3st"
      },
      "execution_count": null,
      "outputs": []
    },
    {
      "cell_type": "markdown",
      "source": [
        "Install dependencies"
      ],
      "metadata": {
        "id": "oyYf72UB2zYK"
      }
    },
    {
      "cell_type": "code",
      "execution_count": null,
      "metadata": {
        "id": "xtp3f0KJytV8"
      },
      "outputs": [],
      "source": [
        "%cd /content/FGVC/\n",
        "!conda create --prefix=.conda python=3.8.5\n",
        "!conda init"
      ]
    },
    {
      "cell_type": "code",
      "source": [
        "!unzip input.zip\n",
        "!mkdir results"
      ],
      "metadata": {
        "id": "GtSVxPaPJE7Z"
      },
      "execution_count": null,
      "outputs": []
    },
    {
      "cell_type": "code",
      "source": [
        "%%shell\n",
        "eval \"$(conda shell.bash hook)\" # copy conda command to shell\n",
        "conda activate /content/FGVC/.conda\n",
        "python --version\n",
        "pip3 install torch torchvision torchaudio --index-url https://download.pytorch.org/whl/cu118\n",
        "#pip install pytorch=1.6.0 torchvision=0.7.0 cudatoolkit=10.1 matplotlib scipy opencv -c pytorch\n",
        "pip install imageio imageio-ffmpeg scikit-image imutils\n",
        "\n",
        "cd /content/FGVC/\n",
        "chmod +x download_data_weights.sh\n",
        "./download_data_weights.sh\n",
        "\n",
        "cd /content/FGVC/tool/\n",
        "python video_completion.py \\\n",
        "       --mode object_removal \\\n",
        "       --path ../data/tennis \\\n",
        "       --path_mask ../data/tennis_mask \\\n",
        "       --outroot ../result/tennis_removal \\\n",
        "       --seamless"
      ],
      "metadata": {
        "id": "eIbZ-9Hc7ZZJ"
      },
      "execution_count": null,
      "outputs": []
    },
    {
      "cell_type": "markdown",
      "source": [
        "Download weights and test images."
      ],
      "metadata": {
        "id": "m9_bcPO12v_l"
      }
    },
    {
      "cell_type": "code",
      "source": [
        "%cd /content/FGVC/\n",
        "!chmod +x download_data_weights.sh\n",
        "!./download_data_weights.sh"
      ],
      "metadata": {
        "id": "Dg2_X1Pc0uVJ"
      },
      "execution_count": null,
      "outputs": []
    },
    {
      "cell_type": "markdown",
      "source": [
        "Test the code"
      ],
      "metadata": {
        "id": "ZGFO7L1t24ES"
      }
    },
    {
      "cell_type": "code",
      "source": [
        "%cd tool\n",
        "!python video_completion.py \\\n",
        "       --mode object_removal \\\n",
        "       --path /content/frames \\\n",
        "       --path_mask /content/masks \\\n",
        "       --outroot /results/ \\\n",
        "       --seamless"
      ],
      "metadata": {
        "id": "poy4RqR91Xfb"
      },
      "execution_count": null,
      "outputs": []
    }
  ]
}